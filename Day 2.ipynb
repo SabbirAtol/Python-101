{
 "cells": [
  {
   "cell_type": "markdown",
   "id": "90a0b987",
   "metadata": {},
   "source": [
    "\n",
    "# Session 2\n",
    "## Table of contents\n",
    "\n",
    "* [Optional arguments to the print function](#Optional_arguments_to_print)\n",
    "* [Operators and Math formulas](#opt_math_formulas)\n",
    "* [Python Modules](#python_modules)\n",
    "* [Conditional Statements](#con_stmnt)\n",
    "* [Loops](#loops)\n",
    "* [Lists](#lists)\n",
    "* [Tuples](#tuples)\n",
    "* [Sets](#sets)"
   ]
  },
  {
   "cell_type": "code",
   "execution_count": 1,
   "id": "5bfc2f9b",
   "metadata": {},
   "outputs": [
    {
     "name": "stdout",
     "output_type": "stream",
     "text": [
      "1 2 3 4 5\n"
     ]
    }
   ],
   "source": [
    "print(1,2,3,4,5, sep=' ')"
   ]
  },
  {
   "cell_type": "code",
   "execution_count": 4,
   "id": "0a258b5f",
   "metadata": {},
   "outputs": [
    {
     "name": "stdout",
     "output_type": "stream",
     "text": [
      "Hello, Srk!\n"
     ]
    }
   ],
   "source": [
    "def name_input():\n",
    "    \"\"\"this funtion take user input\n",
    "\n",
    "    \"\"\"\n",
    "  \n",
    "    name = input(\"Enter your name: \")\n",
    "    print(f\"Hello, {name}!\")\n",
    "name_input()"
   ]
  },
  {
   "cell_type": "code",
   "execution_count": 1,
   "id": "89a1126b",
   "metadata": {},
   "outputs": [
    {
     "name": "stdout",
     "output_type": "stream",
     "text": [
      "x is 3\n"
     ]
    }
   ],
   "source": [
    "x=int(input(\"Enter a number: \"))\n",
    "if x == 3:\n",
    "    print(\"x is 3\")\n",
    "elif x == 5:\n",
    "    print(\"x is 5\")\n",
    "else:\n",
    "    print(\"x is neither 3 nor 5\")"
   ]
  },
  {
   "cell_type": "code",
   "execution_count": 2,
   "id": "f9c8501a",
   "metadata": {},
   "outputs": [
    {
     "name": "stdout",
     "output_type": "stream",
     "text": [
      "X is not 5\n"
     ]
    }
   ],
   "source": [
    "if x != 5: # if x is not 3\n",
    "    print(\"X is not 5\")"
   ]
  },
  {
   "cell_type": "code",
   "execution_count": 5,
   "id": "e86552e2",
   "metadata": {},
   "outputs": [
    {
     "name": "stdout",
     "output_type": "stream",
     "text": [
      "You got it!\n"
     ]
    }
   ],
   "source": [
    "\n",
    "guess = int(input())\n",
    "num = 7\n",
    "\n",
    "if guess == num:\n",
    "    print(\"You got it!\")\n",
    "else:\n",
    "    print(\"You missed it.\")"
   ]
  },
  {
   "cell_type": "code",
   "execution_count": 9,
   "id": "0e5e0013",
   "metadata": {},
   "outputs": [
    {
     "name": "stdout",
     "output_type": "stream",
     "text": [
      "Your total bill is $45.00\n"
     ]
    }
   ],
   "source": [
    "entry = input(\"Do you have any discount? (yes/no):\")\n",
    "entry =entry.lower()  # Convert input to lowercase for easier comparison\n",
    "if (entry == \"yes\" or entry == \"Yes\"):\n",
    "    print(\"Your total bill is $45.00\")\n",
    "elif entry == \"no\":\n",
    "    print(\"Your total bill is $50.00\")\n",
    "else:\n",
    "    print(\"Invalid entry\")"
   ]
  },
  {
   "cell_type": "code",
   "execution_count": 11,
   "id": "0abd0182",
   "metadata": {},
   "outputs": [
    {
     "name": "stdout",
     "output_type": "stream",
     "text": [
      "100 95 90 85 80 75 70 65 60 55 50 45 40 35 30 25 20 15 10 5 "
     ]
    }
   ],
   "source": [
    "for i in range(100, 1, -5):\n",
    "    print(i, end=\" \")"
   ]
  },
  {
   "cell_type": "code",
   "execution_count": 12,
   "id": "76cb5dea",
   "metadata": {},
   "outputs": [
    {
     "name": "stdout",
     "output_type": "stream",
     "text": [
      "100 90 80 70 60 50 40 30 20 10 "
     ]
    }
   ],
   "source": [
    "for i in range(100 , 1, -5):\n",
    "    if i % 2 == 0:\n",
    "        print(i, end=\" \")\n",
    "   "
   ]
  },
  {
   "cell_type": "code",
   "execution_count": 19,
   "id": "01087f60",
   "metadata": {},
   "outputs": [
    {
     "name": "stdout",
     "output_type": "stream",
     "text": [
      "Number of vowels in atol is 2\n"
     ]
    }
   ],
   "source": [
    "v=0\n",
    "name=\"atol\"\n",
    "for i in range(0,len(name)):\n",
    "    if name[i] == \"a\" or name[i] == \"e\" or name[i] == \"i\" or name[i] == \"o\" or name[i] == \"u\":\n",
    "        v+=1\n",
    "print(f\"Number of vowels in {name} is {v}\")\n"
   ]
  },
  {
   "cell_type": "code",
   "execution_count": 2,
   "id": "b041e532",
   "metadata": {},
   "outputs": [
    {
     "data": {
      "text/plain": [
       "[6, 8, 10, 12, 14]"
      ]
     },
     "execution_count": 2,
     "metadata": {},
     "output_type": "execute_result"
    }
   ],
   "source": [
    "[x+5 for x in range(1,10,2) ]"
   ]
  },
  {
   "cell_type": "code",
   "execution_count": 9,
   "id": "525c4211",
   "metadata": {},
   "outputs": [
    {
     "name": "stdout",
     "output_type": "stream",
     "text": [
      "[50, 100, 'No power up', 200, 'No power up', 150]\n"
     ]
    }
   ],
   "source": [
    "levels = [50,100,0,200,0,150]\n",
    "levels=[x if x!=0 else \"No power up\" for x in levels]\n",
    "\n",
    "print(levels)"
   ]
  },
  {
   "cell_type": "code",
   "execution_count": 11,
   "id": "93833588",
   "metadata": {},
   "outputs": [
    {
     "name": "stdout",
     "output_type": "stream",
     "text": [
      "[2, 1, 0, 3]\n"
     ]
    }
   ],
   "source": [
    "import emoji \n",
    "messages = ['😊🎉', 'Hi there! 😊', 'No emojis here!', '🔥🔥😊']\n",
    "emoji_count =[]\n",
    "for i in messages:\n",
    "    emoji_count.append(emoji.emoji_count(i))\n",
    "print(emoji_count)\n",
    " "
   ]
  },
  {
   "cell_type": "code",
   "execution_count": null,
   "id": "396dfbd1",
   "metadata": {},
   "outputs": [],
   "source": []
  }
 ],
 "metadata": {
  "kernelspec": {
   "display_name": ".venv",
   "language": "python",
   "name": "python3"
  },
  "language_info": {
   "codemirror_mode": {
    "name": "ipython",
    "version": 3
   },
   "file_extension": ".py",
   "mimetype": "text/x-python",
   "name": "python",
   "nbconvert_exporter": "python",
   "pygments_lexer": "ipython3",
   "version": "3.12.10"
  }
 },
 "nbformat": 4,
 "nbformat_minor": 5
}
