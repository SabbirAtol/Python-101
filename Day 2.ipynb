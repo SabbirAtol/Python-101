{
 "cells": [
  {
   "cell_type": "markdown",
   "id": "90a0b987",
   "metadata": {},
   "source": [
    "\n",
    "# Session 2\n",
    "## Table of contents\n",
    "\n",
    "* [Optional arguments to the print function](#Optional_arguments_to_print)\n",
    "* [Operators and Math formulas](#opt_math_formulas)\n",
    "* [Python Modules](#python_modules)\n",
    "* [Conditional Statements](#con_stmnt)\n",
    "* [Loops](#loops)\n",
    "* [Lists](#lists)\n",
    "* [Tuples](#tuples)\n",
    "* [Sets](#sets)"
   ]
  },
  {
   "cell_type": "code",
   "execution_count": 1,
   "id": "5bfc2f9b",
   "metadata": {},
   "outputs": [
    {
     "name": "stdout",
     "output_type": "stream",
     "text": [
      "1 2 3 4 5\n"
     ]
    }
   ],
   "source": [
    "print(1,2,3,4,5, sep=' ')"
   ]
  },
  {
   "cell_type": "code",
   "execution_count": 4,
   "id": "0a258b5f",
   "metadata": {},
   "outputs": [
    {
     "name": "stdout",
     "output_type": "stream",
     "text": [
      "Hello, Srk!\n"
     ]
    }
   ],
   "source": [
    "def name_input():\n",
    "    \"\"\"this funtion take user input\n",
    "\n",
    "    \"\"\"\n",
    "  \n",
    "    name = input(\"Enter your name: \")\n",
    "    print(f\"Hello, {name}!\")\n",
    "name_input()"
   ]
  },
  {
   "cell_type": "code",
   "execution_count": null,
   "id": "89a1126b",
   "metadata": {},
   "outputs": [],
   "source": []
  }
 ],
 "metadata": {
  "kernelspec": {
   "display_name": ".venv",
   "language": "python",
   "name": "python3"
  },
  "language_info": {
   "codemirror_mode": {
    "name": "ipython",
    "version": 3
   },
   "file_extension": ".py",
   "mimetype": "text/x-python",
   "name": "python",
   "nbconvert_exporter": "python",
   "pygments_lexer": "ipython3",
   "version": "3.12.10"
  }
 },
 "nbformat": 4,
 "nbformat_minor": 5
}
